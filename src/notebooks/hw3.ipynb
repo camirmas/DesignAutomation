{
 "cells": [
  {
   "cell_type": "markdown",
   "id": "5240e4c7",
   "metadata": {},
   "source": [
    "# ME 617 HW 3\n",
    "\n",
    "**Author: Cameron Irmas**\n",
    "\n",
    "_Note: This source code was implemented in Julia. This notebook requires a Julia 1.7.x kernel as well as an environment that includes the necessary dependencies. See the [repo](https://github.com/camirmas/DesignAutomation) for full implementations, testing, and dependency information. All relevant code has been copied into this notebook, so no importing of individual modules is necessary._"
   ]
  },
  {
   "cell_type": "code",
   "execution_count": 57,
   "id": "d9df9620",
   "metadata": {
    "scrolled": true
   },
   "outputs": [],
   "source": [
    "using LinearAlgebra\n",
    "using Optim"
   ]
  },
  {
   "cell_type": "code",
   "execution_count": 58,
   "id": "e30e2dcc",
   "metadata": {
    "scrolled": true
   },
   "outputs": [
    {
     "data": {
      "text/plain": [
       "levy3 (generic function with 1 method)"
      ]
     },
     "execution_count": 58,
     "metadata": {},
     "output_type": "execute_result"
    }
   ],
   "source": [
    "function levy3(x)\n",
    "    n = length(x)\n",
    "\n",
    "    y(x_i) = 1 + (x_i-1)/4\n",
    "\n",
    "    term1 = sin(π*y(x[1]))^2\n",
    "    term3 = y(x[n]-1)^2 * (1+sin(2π*y(x[n]))^2)\n",
    "    \n",
    "    sum = 0\n",
    "    for i=1:n-1\n",
    "        new = (y(x[i])-1)^2*(1+10sin(π*y(x[i])+1)^2)\n",
    "        sum += new\n",
    "    end\n",
    "\n",
    "    return term1 + sum + term3\n",
    "end"
   ]
  },
  {
   "cell_type": "markdown",
   "id": "73f8698b",
   "metadata": {},
   "source": [
    "## 1 Exhaustive Search"
   ]
  },
  {
   "cell_type": "code",
   "execution_count": 59,
   "id": "51632716",
   "metadata": {
    "scrolled": true
   },
   "outputs": [
    {
     "data": {
      "text/plain": [
       "exhaustive_search"
      ]
     },
     "execution_count": 59,
     "metadata": {},
     "output_type": "execute_result"
    }
   ],
   "source": [
    "\"\"\"\n",
    "Performs an exhaustive search for a function using a discretized search space.\n",
    "\n",
    "The total number of function calls will be d^n, where d is the number of\n",
    "dimensions, and n is the length of the discretized search space.\n",
    "\n",
    "    Args:\n",
    "      fn (Function): Objective function\n",
    "      x_range (Array): Range of x values to explore\n",
    "      dimensions (Int64): Dimensionality of search space\n",
    "      spacing (Float64, optional): Discretization\n",
    "      verbose (Bool, optional): Print results\n",
    "\n",
    "    Returns:\n",
    "      Tuple: (x, fx, f_calls) where x is the minimizer, fx is the minimum, and\n",
    "      f_calls is the number of function calls made.\n",
    "\"\"\"\n",
    "function exhaustive_search(fn::Function, x_range::Array, dimensions::Int64;\n",
    "                           spacing=.1, verbose=true)\n",
    "    f_calls = 1\n",
    "\n",
    "    i = 1\n",
    "    k = [1 for _ in 1:dimensions]\n",
    "    min_x, max_x = x_range\n",
    "    x_values = collect(min_x:spacing:max_x)\n",
    "    n_x_values = length(x_values)\n",
    "    x = [x_values[begin] for _ in 1:dimensions]\n",
    "    x_star = copy(x)\n",
    "    f_star = fn(x_star)\n",
    "    n = length(x)\n",
    "\n",
    "    while i <= n\n",
    "        k[i] += 1\n",
    "\n",
    "        if k[i] > n_x_values\n",
    "            x[i] = min_x\n",
    "            k[i] = 1\n",
    "            i += 1\n",
    "            continue\n",
    "        end\n",
    "\n",
    "        x[i] = x_values[k[i]]\n",
    "\n",
    "        fnew = fn(x)\n",
    "        f_calls += 1\n",
    "\n",
    "        if verbose && (f_calls % 1000000 == 0)\n",
    "            println(\"Iterations: $(f_calls)\\nx*: $(x_star)\\nf*: $(f_star)\\n\")\n",
    "        end\n",
    "\n",
    "        if fnew < f_star\n",
    "            f_star = fnew\n",
    "            x_star = copy(x)\n",
    "        end\n",
    "\n",
    "        i = 1\n",
    "    end\n",
    "\n",
    "    if verbose\n",
    "        println(\"Iterations: $(f_calls)\\nx*: $(x_star)\\nf*: $(f_star)\\n\")\n",
    "    end\n",
    "\n",
    "    return x_star, f_star, f_calls\n",
    "end"
   ]
  },
  {
   "cell_type": "code",
   "execution_count": 60,
   "id": "bc1dbf59",
   "metadata": {
    "scrolled": true
   },
   "outputs": [
    {
     "name": "stdout",
     "output_type": "stream",
     "text": [
      "Iterations: 1000000\n",
      "x*: [1.0, 1.0, 1.0, -2.0]\n",
      "f*: 1.4997597826618576e-32\n",
      "\n",
      "Iterations: 2000000\n",
      "x*: [1.0, 1.0, 1.0, -2.0]\n",
      "f*: 1.4997597826618576e-32\n",
      "\n",
      "Iterations: 3000000\n",
      "x*: [1.0, 1.0, 1.0, -2.0]\n",
      "f*: 1.4997597826618576e-32\n",
      "\n",
      "Iterations: 4000000\n",
      "x*: [1.0, 1.0, 1.0, -2.0]\n",
      "f*: 1.4997597826618576e-32\n",
      "\n",
      "Iterations: 5000000\n",
      "x*: [1.0, 1.0, 1.0, -2.0]\n",
      "f*: 1.4997597826618576e-32\n",
      "\n",
      "Iterations: 6000000\n",
      "x*: [1.0, 1.0, 1.0, -2.0]\n",
      "f*: 1.4997597826618576e-32\n",
      "\n",
      "Iterations: 7000000\n",
      "x*: [1.0, 1.0, 1.0, -2.0]\n",
      "f*: 1.4997597826618576e-32\n",
      "\n",
      "Iterations: 8000000\n",
      "x*: [1.0, 1.0, 1.0, -2.0]\n",
      "f*: 1.4997597826618576e-32\n",
      "\n",
      "Iterations: 9000000\n",
      "x*: [1.0, 1.0, 1.0, -2.0]\n",
      "f*: 1.4997597826618576e-32\n",
      "\n",
      "Iterations: 10000000\n",
      "x*: [1.0, 1.0, 1.0, -2.0]\n",
      "f*: 1.4997597826618576e-32\n",
      "\n",
      "Iterations: 11000000\n",
      "x*: [1.0, 1.0, 1.0, -2.0]\n",
      "f*: 1.4997597826618576e-32\n",
      "\n",
      "Iterations: 12000000\n",
      "x*: [1.0, 1.0, 1.0, -2.0]\n",
      "f*: 1.4997597826618576e-32\n",
      "\n",
      "Iterations: 13000000\n",
      "x*: [1.0, 1.0, 1.0, -2.0]\n",
      "f*: 1.4997597826618576e-32\n",
      "\n",
      "Iterations: 14000000\n",
      "x*: [1.0, 1.0, 1.0, -2.0]\n",
      "f*: 1.4997597826618576e-32\n",
      "\n",
      "Iterations: 15000000\n",
      "x*: [1.0, 1.0, 1.0, -2.0]\n",
      "f*: 1.4997597826618576e-32\n",
      "\n",
      "Iterations: 16000000\n",
      "x*: [1.0, 1.0, 1.0, -2.0]\n",
      "f*: 1.4997597826618576e-32\n",
      "\n",
      "Iterations: 17000000\n",
      "x*: [1.0, 1.0, 1.0, -2.0]\n",
      "f*: 1.4997597826618576e-32\n",
      "\n",
      "Iterations: 18000000\n",
      "x*: [1.0, 1.0, 1.0, -2.0]\n",
      "f*: 1.4997597826618576e-32\n",
      "\n",
      "Iterations: 19000000\n",
      "x*: [1.0, 1.0, 1.0, -2.0]\n",
      "f*: 1.4997597826618576e-32\n",
      "\n",
      "Iterations: 20000000\n",
      "x*: [1.0, 1.0, 1.0, -2.0]\n",
      "f*: 1.4997597826618576e-32\n",
      "\n",
      "Iterations: 21000000\n",
      "x*: [1.0, 1.0, 1.0, -2.0]\n",
      "f*: 1.4997597826618576e-32\n",
      "\n",
      "Iterations: 22000000\n",
      "x*: [1.0, 1.0, 1.0, -2.0]\n",
      "f*: 1.4997597826618576e-32\n",
      "\n",
      "Iterations: 23000000\n",
      "x*: [1.0, 1.0, 1.0, -2.0]\n",
      "f*: 1.4997597826618576e-32\n",
      "\n",
      "Iterations: 24000000\n",
      "x*: [1.0, 1.0, 1.0, -2.0]\n",
      "f*: 1.4997597826618576e-32\n",
      "\n",
      "Iterations: 25000000\n",
      "x*: [1.0, 1.0, 1.0, -2.0]\n",
      "f*: 1.4997597826618576e-32\n",
      "\n",
      "Iterations: 26000000\n",
      "x*: [1.0, 1.0, 1.0, -2.0]\n",
      "f*: 1.4997597826618576e-32\n",
      "\n",
      "Iterations: 27000000\n",
      "x*: [1.0, 1.0, 1.0, -2.0]\n",
      "f*: 1.4997597826618576e-32\n",
      "\n",
      "Iterations: 28000000\n",
      "x*: [1.0, 1.0, 1.0, -2.0]\n",
      "f*: 1.4997597826618576e-32\n",
      "\n",
      "Iterations: 29000000\n",
      "x*: [1.0, 1.0, 1.0, -2.0]\n",
      "f*: 1.4997597826618576e-32\n",
      "\n",
      "Iterations: 30000000\n",
      "x*: [1.0, 1.0, 1.0, -2.0]\n",
      "f*: 1.4997597826618576e-32\n",
      "\n",
      "Iterations: 31000000\n",
      "x*: [1.0, 1.0, 1.0, -2.0]\n",
      "f*: 1.4997597826618576e-32\n",
      "\n",
      "Iterations: 32000000\n",
      "x*: [1.0, 1.0, 1.0, -2.0]\n",
      "f*: 1.4997597826618576e-32\n",
      "\n",
      "Iterations: 33000000\n",
      "x*: [1.0, 1.0, 1.0, -2.0]\n",
      "f*: 1.4997597826618576e-32\n",
      "\n",
      "Iterations: 34000000\n",
      "x*: [1.0, 1.0, 1.0, -2.0]\n",
      "f*: 1.4997597826618576e-32\n",
      "\n",
      "Iterations: 35000000\n",
      "x*: [1.0, 1.0, 1.0, -2.0]\n",
      "f*: 1.4997597826618576e-32\n",
      "\n",
      "Iterations: 36000000\n",
      "x*: [1.0, 1.0, 1.0, -2.0]\n",
      "f*: 1.4997597826618576e-32\n",
      "\n",
      "Iterations: 37000000\n",
      "x*: [1.0, 1.0, 1.0, -2.0]\n",
      "f*: 1.4997597826618576e-32\n",
      "\n",
      "Iterations: 38000000\n",
      "x*: [1.0, 1.0, 1.0, -2.0]\n",
      "f*: 1.4997597826618576e-32\n",
      "\n",
      "Iterations: 39000000\n",
      "x*: [1.0, 1.0, 1.0, -2.0]\n",
      "f*: 1.4997597826618576e-32\n",
      "\n",
      "Iterations: 40000000\n",
      "x*: [1.0, 1.0, 1.0, -2.0]\n",
      "f*: 1.4997597826618576e-32\n",
      "\n",
      "Iterations: 41000000\n",
      "x*: [1.0, 1.0, 1.0, -2.0]\n",
      "f*: 1.4997597826618576e-32\n",
      "\n",
      "Iterations: 42000000\n",
      "x*: [1.0, 1.0, 1.0, -2.0]\n",
      "f*: 1.4997597826618576e-32\n",
      "\n",
      "Iterations: 43000000\n",
      "x*: [1.0, 1.0, 1.0, -2.0]\n",
      "f*: 1.4997597826618576e-32\n",
      "\n",
      "Iterations: 43046721\n",
      "x*: [1.0, 1.0, 1.0, -2.0]\n",
      "f*: 1.4997597826618576e-32\n",
      "\n"
     ]
    },
    {
     "data": {
      "text/plain": [
       "([1.0, 1.0, 1.0, -2.0], 1.4997597826618576e-32, 43046721)"
      ]
     },
     "execution_count": 60,
     "metadata": {},
     "output_type": "execute_result"
    }
   ],
   "source": [
    "(x, fx, f_calls) = exhaustive_search(levy3, [-2, 6], 4; verbose=true)"
   ]
  },
  {
   "cell_type": "markdown",
   "id": "fe8a1586",
   "metadata": {},
   "source": [
    "## 2 Random Hill Climbing"
   ]
  },
  {
   "cell_type": "code",
   "execution_count": 61,
   "id": "c456ef3d",
   "metadata": {
    "scrolled": true
   },
   "outputs": [
    {
     "data": {
      "text/plain": [
       "random_hill"
      ]
     },
     "execution_count": 61,
     "metadata": {},
     "output_type": "execute_result"
    }
   ],
   "source": [
    "\"\"\"\n",
    "Performs a random hill climb solution for a discretized search space.\n",
    "\n",
    "    Args:\n",
    "      fn (Function): Objective function\n",
    "      x0 (Array{Any}): Starting point\n",
    "      h (Float64, optional): Discretization\n",
    "      max_failed (Int64, optional): Max number of failed moves before exiting.\n",
    "        Defaults to the dimensionality of the design space.\n",
    "      verbose (Bool, optional): Optionally print results\n",
    "\n",
    "    Returns:\n",
    "      tuple: (x, fx, f_calls) where x is the minimizer, fx is the minimum, and\n",
    "      f_calls is the number of function calls made.\n",
    "\"\"\"\n",
    "function random_hill(fn::Function, x0::Array{Float64};\n",
    "                     h=.1, max_failed=nothing, verbose=false)\n",
    "    x = copy(x0)\n",
    "    fx = fn(x)\n",
    "    n = length(x)\n",
    "    failed = 0\n",
    "    f_calls = 1\n",
    "\n",
    "    # use an I matrix to randomly determine direction\n",
    "    e_hat = Matrix(1I, n, n)\n",
    "\n",
    "    if isnothing(max_failed)\n",
    "        max_failed = n\n",
    "    end\n",
    "\n",
    "    while failed < max_failed\n",
    "        d = e_hat[:, rand(1:n)] # randomly choose basis vec\n",
    "        d *= rand([-1, 1]) # randomly choose pos/neg\n",
    "        \n",
    "        xnew = x + h*d\n",
    "        fnew = fn(xnew)\n",
    "        f_calls += 1\n",
    "\n",
    "        if fnew < fx\n",
    "            fx = fnew\n",
    "            x = xnew\n",
    "            failed = 0\n",
    "        else\n",
    "            failed += 1\n",
    "        end\n",
    "    end\n",
    "\n",
    "    if verbose\n",
    "        println(\"Iterations: $(f_calls)\\nx*: $(x)\\nf*: $(fx)\\n\")\n",
    "    end\n",
    "\n",
    "    return x, fx, f_calls\n",
    "end"
   ]
  },
  {
   "cell_type": "code",
   "execution_count": 62,
   "id": "5d96d934",
   "metadata": {
    "scrolled": true
   },
   "outputs": [
    {
     "name": "stdout",
     "output_type": "stream",
     "text": [
      "Iterations: 279\n",
      "x*: [3.800000000000007, -0.09999999999999937, -0.09999999999999937, 4.900000000000004]\n",
      "f*: 4.388225844856102\n",
      "\n",
      "Iterations: 1989\n",
      "x*: [3.790000000000047, -0.08999999999999836, -0.08999999999999836, 4.940000000000023]\n",
      "f*: 4.376401911442446\n",
      "\n"
     ]
    },
    {
     "data": {
      "text/plain": [
       "([3.790000000000047, -0.08999999999999836, -0.08999999999999836, 4.940000000000023], 4.376401911442446, 1989)"
      ]
     },
     "execution_count": 62,
     "metadata": {},
     "output_type": "execute_result"
    }
   ],
   "source": [
    "x0 = [6.0, -2.0, -2.0, 6.0]\n",
    "random_hill(levy3, x0; max_failed=100, verbose=true)\n",
    "random_hill(levy3, x0; h=.01, max_failed=100, verbose=true)"
   ]
  },
  {
   "cell_type": "code",
   "execution_count": 63,
   "id": "2fc6c214",
   "metadata": {
    "scrolled": true
   },
   "outputs": [
    {
     "name": "stdout",
     "output_type": "stream",
     "text": [
      "Iterations: 249\n",
      "x*: [3.8000000000000007, -0.10000000000000003, 0.9999999999999988, -1.9999999999999982]\n",
      "f*: 1.25024294018724\n",
      "\n",
      "Iterations: 1571\n",
      "x*: [3.790000000000009, -0.08999999999999903, 1.0000000000000075, -2.000000000000038]\n",
      "f*: 1.2499870520527887\n",
      "\n"
     ]
    },
    {
     "data": {
      "text/plain": [
       "([3.790000000000009, -0.08999999999999903, 1.0000000000000075, -2.000000000000038], 1.2499870520527887, 1571)"
      ]
     },
     "execution_count": 63,
     "metadata": {},
     "output_type": "execute_result"
    }
   ],
   "source": [
    "x0 = [4.2, -1.2, 2.4, -3.8]\n",
    "random_hill(levy3, x0; max_failed=100, verbose=true)\n",
    "random_hill(levy3, x0; h=.01, max_failed=100, verbose=true)"
   ]
  },
  {
   "cell_type": "code",
   "execution_count": 64,
   "id": "47df80f6",
   "metadata": {
    "scrolled": true
   },
   "outputs": [
    {
     "name": "stdout",
     "output_type": "stream",
     "text": [
      "Iterations: 178\n",
      "x*: [0.9999999999999999, -0.1, -0.1, 2.9]\n",
      "f*: 1.7164262632557858\n",
      "\n",
      "Iterations: 845\n",
      "x*: [1.0000000000000007, -0.09, -0.09, 2.920000000000006]\n",
      "f*: 1.7157256258683309\n",
      "\n"
     ]
    },
    {
     "data": {
      "text/plain": [
       "([1.0000000000000007, -0.09, -0.09, 2.920000000000006], 1.7157256258683309, 845)"
      ]
     },
     "execution_count": 64,
     "metadata": {},
     "output_type": "execute_result"
    }
   ],
   "source": [
    "x0 = [0.0, 0.0, 0.0, 3.2]\n",
    "random_hill(levy3, x0; max_failed=100, verbose=true)\n",
    "random_hill(levy3, x0; h=.01, max_failed=100, verbose=true)"
   ]
  },
  {
   "cell_type": "code",
   "execution_count": 65,
   "id": "713b7ee4",
   "metadata": {
    "scrolled": true
   },
   "outputs": [
    {
     "name": "stdout",
     "output_type": "stream",
     "text": [
      "Iterations: 113\n",
      "x*: [1.0, 1.0, 1.0, 0.8]\n",
      "f*: 0.536790836378138\n",
      "\n",
      "Iterations: 195\n",
      "x*: [1.0, 1.0, 1.0, 0.8399999999999999]\n",
      "f*: 0.5352769012949443\n",
      "\n"
     ]
    },
    {
     "data": {
      "text/plain": [
       "([1.0, 1.0, 1.0, 0.8399999999999999], 0.5352769012949443, 195)"
      ]
     },
     "execution_count": 65,
     "metadata": {},
     "output_type": "execute_result"
    }
   ],
   "source": [
    "x0 = [1.0, 1.0, 1.0, 1.0]\n",
    "random_hill(levy3, x0; max_failed=100, verbose=true)\n",
    "random_hill(levy3, x0; h=.01, max_failed=100, verbose=true)"
   ]
  },
  {
   "cell_type": "markdown",
   "id": "cfc7d007",
   "metadata": {},
   "source": [
    "## 3 Simulated Annealing"
   ]
  },
  {
   "cell_type": "code",
   "execution_count": 132,
   "id": "60aff980",
   "metadata": {},
   "outputs": [
    {
     "data": {
      "text/plain": [
       "                x_abstol = 0.0\n",
       "                x_reltol = 0.0\n",
       "                f_abstol = 0.0\n",
       "                f_reltol = 0.0\n",
       "                g_abstol = 1.0e-8\n",
       "                g_reltol = 1.0e-8\n",
       "          outer_x_abstol = 0.0\n",
       "          outer_x_reltol = 0.0\n",
       "          outer_f_abstol = 0.0\n",
       "          outer_f_reltol = 0.0\n",
       "          outer_g_abstol = 1.0e-8\n",
       "          outer_g_reltol = 1.0e-8\n",
       "           f_calls_limit = 0\n",
       "           g_calls_limit = 0\n",
       "           h_calls_limit = 0\n",
       "       allow_f_increases = true\n",
       " allow_outer_f_increases = true\n",
       "        successive_f_tol = 1\n",
       "              iterations = 1000\n",
       "        outer_iterations = 1000\n",
       "             store_trace = false\n",
       "           trace_simplex = false\n",
       "              show_trace = false\n",
       "          extended_trace = false\n",
       "              show_every = 1\n",
       "                callback = nothing\n",
       "              time_limit = NaN\n"
      ]
     },
     "execution_count": 132,
     "metadata": {},
     "output_type": "execute_result"
    }
   ],
   "source": [
    "max_iter = 1000\n",
    "SA_options = Optim.Options(iterations=max_iter)"
   ]
  },
  {
   "cell_type": "code",
   "execution_count": 138,
   "id": "4bd26bd9",
   "metadata": {
    "scrolled": true
   },
   "outputs": [
    {
     "data": {
      "text/plain": [
       " * Status: failure (reached maximum number of iterations)\n",
       "\n",
       " * Candidate solution\n",
       "    Final objective value:     7.632990e-02\n",
       "\n",
       " * Found with\n",
       "    Algorithm:     Simulated Annealing\n",
       "\n",
       " * Convergence measures\n",
       "    |x - x'|               = NaN ≰ 0.0e+00\n",
       "    |x - x'|/|x'|          = NaN ≰ 0.0e+00\n",
       "    |f(x) - f(x')|         = NaN ≰ 0.0e+00\n",
       "    |f(x) - f(x')|/|f(x')| = NaN ≰ 0.0e+00\n",
       "    |g(x)|                 = NaN ≰ 1.0e-08\n",
       "\n",
       " * Work counters\n",
       "    Seconds run:   0  (vs limit Inf)\n",
       "    Iterations:    1000\n",
       "    f(x) calls:    1001\n"
      ]
     },
     "execution_count": 138,
     "metadata": {},
     "output_type": "execute_result"
    }
   ],
   "source": [
    "x0 = [6.0, -2.0, -2.0, 6.0]\n",
    "optimize(levy3, x0, SimulatedAnnealing(), SA_options)"
   ]
  },
  {
   "cell_type": "code",
   "execution_count": 134,
   "id": "fb7b9142",
   "metadata": {
    "scrolled": true
   },
   "outputs": [
    {
     "data": {
      "text/plain": [
       " * Status: failure (reached maximum number of iterations)\n",
       "\n",
       " * Candidate solution\n",
       "    Final objective value:     3.974731e-02\n",
       "\n",
       " * Found with\n",
       "    Algorithm:     Simulated Annealing\n",
       "\n",
       " * Convergence measures\n",
       "    |x - x'|               = NaN ≰ 0.0e+00\n",
       "    |x - x'|/|x'|          = NaN ≰ 0.0e+00\n",
       "    |f(x) - f(x')|         = NaN ≰ 0.0e+00\n",
       "    |f(x) - f(x')|/|f(x')| = NaN ≰ 0.0e+00\n",
       "    |g(x)|                 = NaN ≰ 1.0e-08\n",
       "\n",
       " * Work counters\n",
       "    Seconds run:   0  (vs limit Inf)\n",
       "    Iterations:    1000\n",
       "    f(x) calls:    1001\n"
      ]
     },
     "execution_count": 134,
     "metadata": {},
     "output_type": "execute_result"
    }
   ],
   "source": [
    "x0 = [4.2, -1.2, 2.4, -3.8]\n",
    "optimize(levy3, x0, SimulatedAnnealing(), SA_options)"
   ]
  },
  {
   "cell_type": "code",
   "execution_count": 135,
   "id": "630d19cd",
   "metadata": {
    "scrolled": true
   },
   "outputs": [
    {
     "data": {
      "text/plain": [
       " * Status: failure (reached maximum number of iterations)\n",
       "\n",
       " * Candidate solution\n",
       "    Final objective value:     5.499646e-02\n",
       "\n",
       " * Found with\n",
       "    Algorithm:     Simulated Annealing\n",
       "\n",
       " * Convergence measures\n",
       "    |x - x'|               = NaN ≰ 0.0e+00\n",
       "    |x - x'|/|x'|          = NaN ≰ 0.0e+00\n",
       "    |f(x) - f(x')|         = NaN ≰ 0.0e+00\n",
       "    |f(x) - f(x')|/|f(x')| = NaN ≰ 0.0e+00\n",
       "    |g(x)|                 = NaN ≰ 1.0e-08\n",
       "\n",
       " * Work counters\n",
       "    Seconds run:   0  (vs limit Inf)\n",
       "    Iterations:    1000\n",
       "    f(x) calls:    1001\n"
      ]
     },
     "execution_count": 135,
     "metadata": {},
     "output_type": "execute_result"
    }
   ],
   "source": [
    "x0 = [0.0, 0.0, 0.0, 3.2]\n",
    "optimize(levy3, x0, SimulatedAnnealing(), SA_options)"
   ]
  },
  {
   "cell_type": "code",
   "execution_count": 136,
   "id": "5a9885ac",
   "metadata": {
    "scrolled": true
   },
   "outputs": [
    {
     "data": {
      "text/plain": [
       " * Status: failure (reached maximum number of iterations)\n",
       "\n",
       " * Candidate solution\n",
       "    Final objective value:     2.699930e-02\n",
       "\n",
       " * Found with\n",
       "    Algorithm:     Simulated Annealing\n",
       "\n",
       " * Convergence measures\n",
       "    |x - x'|               = NaN ≰ 0.0e+00\n",
       "    |x - x'|/|x'|          = NaN ≰ 0.0e+00\n",
       "    |f(x) - f(x')|         = NaN ≰ 0.0e+00\n",
       "    |f(x) - f(x')|/|f(x')| = NaN ≰ 0.0e+00\n",
       "    |g(x)|                 = NaN ≰ 1.0e-08\n",
       "\n",
       " * Work counters\n",
       "    Seconds run:   0  (vs limit Inf)\n",
       "    Iterations:    1000\n",
       "    f(x) calls:    1001\n"
      ]
     },
     "execution_count": 136,
     "metadata": {},
     "output_type": "execute_result"
    }
   ],
   "source": [
    "x0 = [1.0, 1.0, 1.0, 1.0]\n",
    "optimize(levy3, x0, SimulatedAnnealing(), SA_options)"
   ]
  },
  {
   "cell_type": "markdown",
   "id": "8b7160f5",
   "metadata": {},
   "source": [
    "## 4 Particle Swarm"
   ]
  },
  {
   "cell_type": "code",
   "execution_count": 116,
   "id": "86e4aecc",
   "metadata": {},
   "outputs": [
    {
     "data": {
      "text/plain": [
       "                x_abstol = 0.0\n",
       "                x_reltol = 0.0\n",
       "                f_abstol = 0.0\n",
       "                f_reltol = 0.0\n",
       "                g_abstol = 1.0e-8\n",
       "                g_reltol = 1.0e-8\n",
       "          outer_x_abstol = 0.0\n",
       "          outer_x_reltol = 0.0\n",
       "          outer_f_abstol = 0.0\n",
       "          outer_f_reltol = 0.0\n",
       "          outer_g_abstol = 1.0e-8\n",
       "          outer_g_reltol = 1.0e-8\n",
       "           f_calls_limit = 0\n",
       "           g_calls_limit = 0\n",
       "           h_calls_limit = 0\n",
       "       allow_f_increases = true\n",
       " allow_outer_f_increases = true\n",
       "        successive_f_tol = 1\n",
       "              iterations = 1000\n",
       "        outer_iterations = 1000\n",
       "             store_trace = false\n",
       "           trace_simplex = false\n",
       "              show_trace = false\n",
       "          extended_trace = false\n",
       "              show_every = 1\n",
       "                callback = nothing\n",
       "              time_limit = NaN\n"
      ]
     },
     "execution_count": 116,
     "metadata": {},
     "output_type": "execute_result"
    }
   ],
   "source": [
    "max_iter = 1000\n",
    "PS_options = Optim.Options(iterations=max_iter)"
   ]
  },
  {
   "cell_type": "code",
   "execution_count": 117,
   "id": "1e193b05",
   "metadata": {
    "scrolled": true
   },
   "outputs": [
    {
     "data": {
      "text/plain": [
       " * Status: failure (reached maximum number of iterations)\n",
       "\n",
       " * Candidate solution\n",
       "    Final objective value:     3.305329e-11\n",
       "\n",
       " * Found with\n",
       "    Algorithm:     Particle Swarm\n",
       "\n",
       " * Convergence measures\n",
       "    |x - x'|               = NaN ≰ 0.0e+00\n",
       "    |x - x'|/|x'|          = NaN ≰ 0.0e+00\n",
       "    |f(x) - f(x')|         = NaN ≰ 0.0e+00\n",
       "    |f(x) - f(x')|/|f(x')| = NaN ≰ 0.0e+00\n",
       "    |g(x)|                 = NaN ≰ 1.0e-08\n",
       "\n",
       " * Work counters\n",
       "    Seconds run:   0  (vs limit Inf)\n",
       "    Iterations:    1000\n",
       "    f(x) calls:    5004\n",
       "    ∇f(x) calls:   0\n"
      ]
     },
     "execution_count": 117,
     "metadata": {},
     "output_type": "execute_result"
    }
   ],
   "source": [
    "x0 = [6.0, -2.0, -2.0, 6.0]\n",
    "optimize(levy3, x0, ParticleSwarm(), PS_options)"
   ]
  },
  {
   "cell_type": "code",
   "execution_count": 119,
   "id": "381d5260",
   "metadata": {
    "scrolled": true
   },
   "outputs": [
    {
     "data": {
      "text/plain": [
       " * Status: failure (reached maximum number of iterations)\n",
       "\n",
       " * Candidate solution\n",
       "    Final objective value:     8.952825e-02\n",
       "\n",
       " * Found with\n",
       "    Algorithm:     Particle Swarm\n",
       "\n",
       " * Convergence measures\n",
       "    |x - x'|               = NaN ≰ 0.0e+00\n",
       "    |x - x'|/|x'|          = NaN ≰ 0.0e+00\n",
       "    |f(x) - f(x')|         = NaN ≰ 0.0e+00\n",
       "    |f(x) - f(x')|/|f(x')| = NaN ≰ 0.0e+00\n",
       "    |g(x)|                 = NaN ≰ 1.0e-08\n",
       "\n",
       " * Work counters\n",
       "    Seconds run:   0  (vs limit Inf)\n",
       "    Iterations:    1000\n",
       "    f(x) calls:    5004\n",
       "    ∇f(x) calls:   0\n"
      ]
     },
     "execution_count": 119,
     "metadata": {},
     "output_type": "execute_result"
    }
   ],
   "source": [
    "x0 = [4.2, -1.2, 2.4, -3.8]\n",
    "optimize(levy3, x0, ParticleSwarm(), PS_options)"
   ]
  },
  {
   "cell_type": "code",
   "execution_count": 120,
   "id": "6fafb18f",
   "metadata": {
    "scrolled": true
   },
   "outputs": [
    {
     "data": {
      "text/plain": [
       " * Status: failure (reached maximum number of iterations)\n",
       "\n",
       " * Candidate solution\n",
       "    Final objective value:     1.499760e-32\n",
       "\n",
       " * Found with\n",
       "    Algorithm:     Particle Swarm\n",
       "\n",
       " * Convergence measures\n",
       "    |x - x'|               = NaN ≰ 0.0e+00\n",
       "    |x - x'|/|x'|          = NaN ≰ 0.0e+00\n",
       "    |f(x) - f(x')|         = NaN ≰ 0.0e+00\n",
       "    |f(x) - f(x')|/|f(x')| = NaN ≰ 0.0e+00\n",
       "    |g(x)|                 = NaN ≰ 1.0e-08\n",
       "\n",
       " * Work counters\n",
       "    Seconds run:   0  (vs limit Inf)\n",
       "    Iterations:    1000\n",
       "    f(x) calls:    5004\n",
       "    ∇f(x) calls:   0\n"
      ]
     },
     "execution_count": 120,
     "metadata": {},
     "output_type": "execute_result"
    }
   ],
   "source": [
    "x0 = [0.0, 0.0, 0.0, 3.2]\n",
    "optimize(levy3, x0, ParticleSwarm(), PS_options)"
   ]
  },
  {
   "cell_type": "code",
   "execution_count": 121,
   "id": "5ea7ed12",
   "metadata": {
    "scrolled": true
   },
   "outputs": [
    {
     "data": {
      "text/plain": [
       " * Status: failure (reached maximum number of iterations)\n",
       "\n",
       " * Candidate solution\n",
       "    Final objective value:     5.579929e-23\n",
       "\n",
       " * Found with\n",
       "    Algorithm:     Particle Swarm\n",
       "\n",
       " * Convergence measures\n",
       "    |x - x'|               = NaN ≰ 0.0e+00\n",
       "    |x - x'|/|x'|          = NaN ≰ 0.0e+00\n",
       "    |f(x) - f(x')|         = NaN ≰ 0.0e+00\n",
       "    |f(x) - f(x')|/|f(x')| = NaN ≰ 0.0e+00\n",
       "    |g(x)|                 = NaN ≰ 1.0e-08\n",
       "\n",
       " * Work counters\n",
       "    Seconds run:   0  (vs limit Inf)\n",
       "    Iterations:    1000\n",
       "    f(x) calls:    5004\n",
       "    ∇f(x) calls:   0\n"
      ]
     },
     "execution_count": 121,
     "metadata": {},
     "output_type": "execute_result"
    }
   ],
   "source": [
    "x0 = [1.0, 1.0, 1.0, 1.0]\n",
    "optimize(levy3, x0, ParticleSwarm(), PS_options)"
   ]
  },
  {
   "cell_type": "markdown",
   "id": "292f95ea",
   "metadata": {},
   "source": [
    "## 5 Analysis"
   ]
  },
  {
   "cell_type": "code",
   "execution_count": null,
   "id": "09b7f225",
   "metadata": {},
   "outputs": [],
   "source": []
  }
 ],
 "metadata": {
  "kernelspec": {
   "display_name": "Julia 1.7.1",
   "language": "julia",
   "name": "julia-1.7"
  },
  "language_info": {
   "file_extension": ".jl",
   "mimetype": "application/julia",
   "name": "julia",
   "version": "1.7.1"
  }
 },
 "nbformat": 4,
 "nbformat_minor": 5
}
