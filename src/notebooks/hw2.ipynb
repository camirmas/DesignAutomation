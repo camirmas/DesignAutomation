{
 "cells": [
  {
   "cell_type": "markdown",
   "id": "steady-director",
   "metadata": {},
   "source": [
    "# HW2: Airport Terminal Design\n",
    "\n",
    "#### Authors: Cameron Irmas, Hannah Mankle"
   ]
  },
  {
   "cell_type": "markdown",
   "id": "still-donna",
   "metadata": {},
   "source": [
    "### 1\n",
    "\n",
    "#### Description: With text and code, show how you check if you have achieved the goal.\n",
    "\n",
    "In order to determine if we have reached the goal, we need to ensure that:\n",
    "1. The desired number of terminals has been reached\n",
    "2. No rules are violated anywhere in the matrix\n",
    "\n",
    "Assuming that we apply the rules as stated at the transition point (children are valid), we can maintain a number of terminals for any given child node, and check against that, avoiding the need for extra computation (though needs to be accounted for in the transition process)."
   ]
  },
  {
   "cell_type": "code",
   "execution_count": null,
   "id": "ca056606",
   "metadata": {},
   "outputs": [],
   "source": [
    "using CSV, DataFrames\n",
    "using DataStructures"
   ]
  },
  {
   "cell_type": "code",
   "execution_count": null,
   "id": "5c4292ca",
   "metadata": {},
   "outputs": [],
   "source": [
    "function _read_csv(filename)\n",
    "    println(\"Reading CSV...\")\n",
    "    m = CSV.read(filename, DataFrame; header=false)\n",
    "    return Matrix{Int}(m)\n",
    "end"
   ]
  },
  {
   "cell_type": "code",
   "execution_count": null,
   "id": "respiratory-continent",
   "metadata": {},
   "outputs": [],
   "source": [
    "struct AirportNode\n",
    "    matrix\n",
    "    depth::Int\n",
    "    terminals::Int\n",
    "    g::Int\n",
    "    h::Int\n",
    "    f::Int\n",
    "\n",
    "    function AirportNode(matrix, depth, terminals; g=0, h=0)\n",
    "        return new(matrix, depth, terminals, g, h, g+h)\n",
    "    end\n",
    "end"
   ]
  },
  {
   "cell_type": "code",
   "execution_count": 1,
   "id": "2c8ca90d",
   "metadata": {},
   "outputs": [
    {
     "data": {
      "text/plain": [
       "_get_neighbors (generic function with 1 method)"
      ]
     },
     "execution_count": 1,
     "metadata": {},
     "output_type": "execute_result"
    }
   ],
   "source": [
    "function _get_neighbors(matrix, (row, col); diagonal=true)\n",
    "    if diagonal\n",
    "        neighbors = []\n",
    "        for nrow=row-1:row+1\n",
    "            for ncol=col-1:col+1\n",
    "                if nrow == row && ncol == col\n",
    "                    continue\n",
    "                else\n",
    "                    push!(neighbors, matrix[nrow, ncol])\n",
    "                end\n",
    "            end\n",
    "        end\n",
    "    else\n",
    "        top = matrix[row-1, col]\n",
    "        right = matrix[row, col+1]\n",
    "        bottom = matrix[row+1, col]\n",
    "        left = matrix[row, col-1]\n",
    "        neighbors = [top, right, bottom, left]\n",
    "    end\n",
    "\n",
    "    return neighbors\n",
    "end"
   ]
  },
  {
   "cell_type": "markdown",
   "id": "3c1736ec",
   "metadata": {},
   "source": [
    "#### Rule #1\n",
    "Rule 1 states that at any given index, a 0 can become a 2 if:\n",
    " - Bordering a 1 on side\n",
    " - Other 3 sides are 0"
   ]
  },
  {
   "cell_type": "code",
   "execution_count": null,
   "id": "864aa706",
   "metadata": {},
   "outputs": [],
   "source": [
    "function check_rule_1(node, (row, col))\n",
    "    state = node.matrix\n",
    "\n",
    "    if state[row, col] != 0\n",
    "        return false\n",
    "    end\n",
    "\n",
    "    neighbors = _get_neighbors(node.matrix, (row, col); diagonal=false)\n",
    "\n",
    "    # we're looking for [0, 0, 0, 1]\n",
    "    return sort(neighbors) == [0, 0, 0, 1]\n",
    "end"
   ]
  },
  {
   "cell_type": "markdown",
   "id": "722673df",
   "metadata": {},
   "source": [
    "####  Rule #2\n",
    "Rule 2 states that at any given index, a 0 can become a 1 if:\n",
    " - Neighbors existing “1”, even if diagonally\n",
    " - Doesn’t cause a violation in Rule 1 (handled in transition function)"
   ]
  },
  {
   "cell_type": "code",
   "execution_count": null,
   "id": "eecd9164",
   "metadata": {},
   "outputs": [],
   "source": [
    "function check_rule_2(node, (row, col))\n",
    "    if node.matrix[row, col] != 0\n",
    "        return false\n",
    "    end\n",
    "\n",
    "    neighbors = _get_neighbors(node.matrix, (row, col))\n",
    "\n",
    "    return 1 in neighbors\n",
    "end"
   ]
  },
  {
   "cell_type": "markdown",
   "id": "seeing-palestine",
   "metadata": {},
   "source": [
    "### 2\n",
    "\n",
    "#### Description: With text and code, show how you represent the candidates, and transitions for this problem.\n",
    "\n",
    "Candidates are represented above as `AirportNode`. We can maintain a current state of the airport in a matrix, the current depth, and the number of terminals present at this current state. As mentioned, we can carefully maintain a  current number of terminals by incrementing whenever a new terminal is added with that new child node.\n",
    "\n",
    "Transitions in a typical DFS are represented as a list of functions representing transformations, resulting in child nodes to be added to the stack. In this case, we have two transition functions, one representing 0->1, and the other representing 0->2. Each function will evaluate the current state of the matrix, and any given point."
   ]
  },
  {
   "cell_type": "markdown",
   "id": "a5e2c1c0",
   "metadata": {},
   "source": [
    "#### Transition functions\n",
    "Transitions for adding new walkways"
   ]
  },
  {
   "cell_type": "code",
   "execution_count": null,
   "id": "71a799b0",
   "metadata": {},
   "outputs": [],
   "source": [
    "function transition_walkway(node, (row, col))\n",
    "    state = node.matrix\n",
    "\n",
    "    if state[row, col] != 0\n",
    "        return\n",
    "    end\n",
    "\n",
    "    if !check_rule_2(node, (row, col))\n",
    "        return\n",
    "    end\n",
    "\n",
    "    new_m = copy(node.matrix)\n",
    "    new_m[row, col] = 1\n",
    "    new_node = AirportNode(\n",
    "        new_m, node.depth+1, node.terminals; g=node.g+1, h=node.h)\n",
    "\n",
    "    # check the new_m for rule 1 violations\n",
    "    # new node cannot be directly next to a 2\n",
    "    neighbors = _get_neighbors(new_node.matrix, (row, col); diagonal=false)\n",
    "\n",
    "    if 2 in neighbors\n",
    "        return\n",
    "    end\n",
    "\n",
    "    return new_node\n",
    "end"
   ]
  },
  {
   "cell_type": "markdown",
   "id": "faeec322",
   "metadata": {},
   "source": [
    "Transition function for adding new terminals "
   ]
  },
  {
   "cell_type": "code",
   "execution_count": null,
   "id": "169decd4",
   "metadata": {},
   "outputs": [],
   "source": [
    "function transition_terminal(node, (row, col))\n",
    "    if !check_rule_1(node, (row, col))\n",
    "        return\n",
    "    end\n",
    "\n",
    "    new_m = copy(node.matrix)\n",
    "    new_m[row, col] = 2\n",
    "    new_node = AirportNode(\n",
    "        new_m, node.depth+1, node.terminals+1; g=node.g, h=node.h-1)\n",
    "\n",
    "    return new_node\n",
    "end"
   ]
  },
  {
   "cell_type": "markdown",
   "id": "b5d6154e",
   "metadata": {},
   "source": [
    "### 3 \n",
    "#### Description: Write code for and run DFS for the 6 problems above. Set a max depth to 10. This max may or may not be reached in each problem. Show results. What is the average branching factor?\n",
    "\n"
   ]
  },
  {
   "cell_type": "code",
   "execution_count": null,
   "id": "7e63439b",
   "metadata": {},
   "outputs": [],
   "source": [
    "function airport_dfs(terminals, seed_file, max_depth)\n",
    "    s_fns = [\n",
    "        transition_terminal,\n",
    "        transition_walkway\n",
    "    ]\n",
    "    nodes = Stack{AirportNode}()\n",
    "    initial_state = _read_csv(seed_file)\n",
    "    println(\"Running Airport Terminal Solver...\")\n",
    "    seed = AirportNode(initial_state, 1, 0)\n",
    "    push!(nodes, seed)\n",
    "    last_node = seed\n",
    "    i = 0\n",
    "\n",
    "    while !isempty(nodes)\n",
    "        node = pop!(nodes)\n",
    "        last_node = node\n",
    "        state = node.matrix\n",
    "\n",
    "        i += 1\n",
    "        if i % 100000 == 0\n",
    "            println(\"\\n\\nIterations: $(i). Stack size: $(length(nodes))\")\n",
    "        end\n",
    "\n",
    "        if node.depth > max_depth\n",
    "            continue\n",
    "        end\n",
    "\n",
    "        _is_goal(node) = node.terminals == terminals\n",
    "\n",
    "        if _is_goal(node)\n",
    "            return node\n",
    "        end\n",
    "\n",
    "        # Run walkway and terminal transition functions on current matrix\n",
    "        # and add valid nodes to the stack.\n",
    "        rows, cols = size(state)\n",
    "        for row=1:rows\n",
    "            for col=1:cols\n",
    "                for fn in s_fns\n",
    "                    new_node = fn(node, (row, col))    \n",
    "\n",
    "                    if isnothing(new_node)\n",
    "                        continue\n",
    "                    end\n",
    "\n",
    "                    push!(nodes, new_node)\n",
    "                end\n",
    "            end\n",
    "        end\n",
    "    end\n",
    "    println(\"failed. final state:\\n$(last_node.matrix)\")\n",
    "end"
   ]
  },
  {
   "cell_type": "code",
   "execution_count": null,
   "id": "9c9d58b3",
   "metadata": {},
   "outputs": [],
   "source": []
  },
  {
   "cell_type": "markdown",
   "id": "8eeb9c07",
   "metadata": {},
   "source": [
    "### 4 \n",
    "#### Description: Write a transition function, g(n), such that the number of walkways are minimized and a heuristic, h(n), to achieve the target number of G gates. Does the heuristic meet the four criteria (zero at goal, monotonically decreasing, admissible, same units). Discuss. (it's okay if it doesn't).\n",
    "\n",
    "\n",
    "\n"
   ]
  },
  {
   "cell_type": "markdown",
   "id": "256e425a",
   "metadata": {},
   "source": [
    "### 5\n",
    "#### Description: Run A* on the 6 problems above. Compare results to 3."
   ]
  },
  {
   "cell_type": "code",
   "execution_count": null,
   "id": "095312f4",
   "metadata": {},
   "outputs": [],
   "source": [
    "function airport_a_star(terminals, seed_file, max_depth)\n",
    "    s_fns = [\n",
    "        transition_terminal,\n",
    "        transition_walkway\n",
    "    ]\n",
    "    nodes = PriorityQueue{AirportNode, Int}()\n",
    "    initial_state = _read_csv(seed_file)\n",
    "    println(\"Running Airport Terminal Solver...\")\n",
    "    seed = AirportNode(initial_state, 1, 0; h=terminals, g=0)\n",
    "    enqueue!(nodes, seed, seed.f)\n",
    "    last_node = seed\n",
    "    i = 0\n",
    "\n",
    "    while !isempty(nodes)\n",
    "        node = dequeue!(nodes)\n",
    "        last_node = node\n",
    "        state = node.matrix\n",
    "\n",
    "        i += 1\n",
    "        if i % 100000 == 0\n",
    "            println(\"\\n\\nIterations: $(i). Stack size: $(length(nodes)). g: $(node.g), h: $(node.h)\")\n",
    "        end\n",
    "\n",
    "        if node.depth > max_depth\n",
    "            continue\n",
    "        end\n",
    "\n",
    "        _is_goal(node) = node.terminals == terminals\n",
    "\n",
    "        if _is_goal(node)\n",
    "            res = \"\"\"\n",
    "                Solution found! Iterations: $(i). g: $(node.g). h: $(node.h). \\\n",
    "                Depth: $(node.depth)\n",
    "            \"\"\"\n",
    "            println(res)\n",
    "            display(node.matrix)\n",
    "            return node\n",
    "        end\n",
    "\n",
    "        # Run walkway and terminal transition functions on current matrix\n",
    "        # and add valid nodes to the stack.\n",
    "        rows, cols = size(state)\n",
    "        for row=1:rows\n",
    "            for col=1:cols\n",
    "                for fn in s_fns\n",
    "                    new_node = fn(node, (row, col))    \n",
    "\n",
    "                    if isnothing(new_node)\n",
    "                        continue\n",
    "                    end\n",
    "\n",
    "                    enqueue!(nodes, new_node, new_node.f)\n",
    "                end\n",
    "            end\n",
    "        end\n",
    "    end\n",
    "    println(\"failed. final state:\\n$(last_node.matrix)\")\n",
    "end\n"
   ]
  },
  {
   "cell_type": "markdown",
   "id": "7f00ee84",
   "metadata": {},
   "source": [
    "### 6\n",
    "#### Description: Based on your results. What are the limits of the size of problem that can be solved. What other approaches could be tried to solve complex problems like this?"
   ]
  }
 ],
 "metadata": {
  "kernelspec": {
   "display_name": "Julia 1.7.1",
   "language": "julia",
   "name": "julia-1.7"
  },
  "language_info": {
   "file_extension": ".jl",
   "mimetype": "application/julia",
   "name": "julia",
   "version": "1.7.1"
  }
 },
 "nbformat": 4,
 "nbformat_minor": 5
}
