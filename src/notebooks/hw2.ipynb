{
 "cells": [
  {
   "cell_type": "markdown",
   "id": "steady-director",
   "metadata": {},
   "source": [
    "# HW2: Airport Terminal Design\n",
    "\n",
    "#### Authors: Cameron Irmas, Hannah Mankle"
   ]
  },
  {
   "cell_type": "markdown",
   "id": "still-donna",
   "metadata": {},
   "source": [
    "### 1\n",
    "\n",
    "#### Description: With text and code, show how you check if you have achieved the goal.\n",
    "\n",
    "In order to determine if we have reached the goal, we need to ensure that:\n",
    "1. The desired number of terminals has been reached\n",
    "2. No rules are violated anywhere in the matrix\n",
    "\n",
    "Assuming that we apply the rules as stated at the transition point (children are valid), we can maintain a number of terminals for any given child node, and check against that, avoiding the need for extra computation (though needs to be accounted for in the transition process)."
   ]
  },
  {
   "cell_type": "code",
   "execution_count": 2,
   "id": "respiratory-continent",
   "metadata": {},
   "outputs": [
    {
     "data": {
      "text/plain": [
       "is_goal (generic function with 1 method)"
      ]
     },
     "execution_count": 2,
     "metadata": {},
     "output_type": "execute_result"
    }
   ],
   "source": [
    "struct AirportNode\n",
    "    value\n",
    "    depth::Int\n",
    "    terminals::Int\n",
    "end\n",
    "\n",
    "function is_goal(node::AirportNode, terminals::Int)\n",
    "    return node.terminals == terminals\n",
    "end"
   ]
  },
  {
   "cell_type": "markdown",
   "id": "seeing-palestine",
   "metadata": {},
   "source": [
    "### 2\n",
    "\n",
    "#### Description: With text and code, show how you represent the candidates, and transitions for this problem.\n",
    "\n",
    "Candidates are represented above as `AirportNode`. We can maintain a current state of the airport in a matrix, the current depth, and the number of terminals present at this current state. As mentioned, we can carefully maintain a  current number of terminals by incrementing whenever a new terminal is added with that new child node.\n",
    "\n",
    "Transitions in a typical DFS are represented as a list of functions representing transformations, resulting in child nodes to be added to the stack. In this case, we have two transition functions, one representing 0->1, and the other representing 0->2. Each function will evaluate the current state of the matrix, and any given point."
   ]
  },
  {
   "cell_type": "code",
   "execution_count": null,
   "id": "professional-seating",
   "metadata": {},
   "outputs": [],
   "source": []
  }
 ],
 "metadata": {
  "kernelspec": {
   "display_name": "Julia 1.7.1",
   "language": "julia",
   "name": "julia-1.7"
  },
  "language_info": {
   "file_extension": ".jl",
   "mimetype": "application/julia",
   "name": "julia",
   "version": "1.7.1"
  }
 },
 "nbformat": 4,
 "nbformat_minor": 5
}
